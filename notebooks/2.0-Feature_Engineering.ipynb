{
 "cells": [
  {
   "cell_type": "markdown",
   "id": "1c4c537a",
   "metadata": {},
   "source": [
    "### task-3 Feature Engineering"
   ]
  },
  {
   "cell_type": "code",
   "execution_count": 21,
   "id": "facd0a32",
   "metadata": {},
   "outputs": [],
   "source": [
    "import sys\n",
    "import os\n",
    "import pandas as pd\n",
    "sys.path.append(os.path.abspath(\"..\"))"
   ]
  },
  {
   "cell_type": "code",
   "execution_count": 22,
   "id": "a457ca3f",
   "metadata": {},
   "outputs": [
    {
     "name": "stdout",
     "output_type": "stream",
     "text": [
      "The autoreload extension is already loaded. To reload it, use:\n",
      "  %reload_ext autoreload\n"
     ]
    }
   ],
   "source": [
    "%load_ext autoreload\n",
    "%autoreload 2\n"
   ]
  },
  {
   "cell_type": "code",
   "execution_count": 23,
   "id": "416ae4c4",
   "metadata": {},
   "outputs": [],
   "source": [
    "from src.data_processing import (process_and_save_data)"
   ]
  },
  {
   "cell_type": "code",
   "execution_count": 24,
   "id": "b2e51608",
   "metadata": {},
   "outputs": [
    {
     "name": "stdout",
     "output_type": "stream",
     "text": [
      "âœ… Processed data saved to ../data/processed/processed.csv\n"
     ]
    }
   ],
   "source": [
    "process_and_save_data(\n",
    "    input_csv_path='../data/raw/data.csv',\n",
    "    output_csv_path='../data/processed/processed.csv'\n",
    ")"
   ]
  },
  {
   "cell_type": "code",
   "execution_count": 25,
   "id": "21aaf6ad",
   "metadata": {},
   "outputs": [
    {
     "data": {
      "application/vnd.microsoft.datawrangler.viewer.v0+json": {
       "columns": [
        {
         "name": "index",
         "rawType": "int64",
         "type": "integer"
        },
        {
         "name": "CustomerId",
         "rawType": "object",
         "type": "string"
        },
        {
         "name": "total_value",
         "rawType": "float64",
         "type": "float"
        },
        {
         "name": "avg_value",
         "rawType": "float64",
         "type": "float"
        },
        {
         "name": "std_value",
         "rawType": "float64",
         "type": "float"
        },
        {
         "name": "transaction_count",
         "rawType": "float64",
         "type": "float"
        },
        {
         "name": "total_amount",
         "rawType": "float64",
         "type": "float"
        },
        {
         "name": "avg_amount",
         "rawType": "float64",
         "type": "float"
        },
        {
         "name": "std_amount",
         "rawType": "float64",
         "type": "float"
        },
        {
         "name": "CurrencyCode_UGX",
         "rawType": "float64",
         "type": "float"
        },
        {
         "name": "CountryCode_256",
         "rawType": "float64",
         "type": "float"
        },
        {
         "name": "ProviderId_ProviderId_1",
         "rawType": "float64",
         "type": "float"
        },
        {
         "name": "ProviderId_ProviderId_2",
         "rawType": "float64",
         "type": "float"
        },
        {
         "name": "ProviderId_ProviderId_3",
         "rawType": "float64",
         "type": "float"
        },
        {
         "name": "ProviderId_ProviderId_4",
         "rawType": "float64",
         "type": "float"
        },
        {
         "name": "ProviderId_ProviderId_5",
         "rawType": "float64",
         "type": "float"
        },
        {
         "name": "ProviderId_ProviderId_6",
         "rawType": "float64",
         "type": "float"
        },
        {
         "name": "ProductId_ProductId_1",
         "rawType": "float64",
         "type": "float"
        },
        {
         "name": "ProductId_ProductId_10",
         "rawType": "float64",
         "type": "float"
        },
        {
         "name": "ProductId_ProductId_11",
         "rawType": "float64",
         "type": "float"
        },
        {
         "name": "ProductId_ProductId_13",
         "rawType": "float64",
         "type": "float"
        },
        {
         "name": "ProductId_ProductId_14",
         "rawType": "float64",
         "type": "float"
        },
        {
         "name": "ProductId_ProductId_15",
         "rawType": "float64",
         "type": "float"
        },
        {
         "name": "ProductId_ProductId_16",
         "rawType": "float64",
         "type": "float"
        },
        {
         "name": "ProductId_ProductId_19",
         "rawType": "float64",
         "type": "float"
        },
        {
         "name": "ProductId_ProductId_2",
         "rawType": "float64",
         "type": "float"
        },
        {
         "name": "ProductId_ProductId_20",
         "rawType": "float64",
         "type": "float"
        },
        {
         "name": "ProductId_ProductId_21",
         "rawType": "float64",
         "type": "float"
        },
        {
         "name": "ProductId_ProductId_22",
         "rawType": "float64",
         "type": "float"
        },
        {
         "name": "ProductId_ProductId_24",
         "rawType": "float64",
         "type": "float"
        },
        {
         "name": "ProductId_ProductId_27",
         "rawType": "float64",
         "type": "float"
        },
        {
         "name": "ProductId_ProductId_3",
         "rawType": "float64",
         "type": "float"
        },
        {
         "name": "ProductId_ProductId_4",
         "rawType": "float64",
         "type": "float"
        },
        {
         "name": "ProductId_ProductId_5",
         "rawType": "float64",
         "type": "float"
        },
        {
         "name": "ProductId_ProductId_6",
         "rawType": "float64",
         "type": "float"
        },
        {
         "name": "ProductId_ProductId_7",
         "rawType": "float64",
         "type": "float"
        },
        {
         "name": "ProductId_ProductId_8",
         "rawType": "float64",
         "type": "float"
        },
        {
         "name": "ProductId_ProductId_9",
         "rawType": "float64",
         "type": "float"
        },
        {
         "name": "ProductCategory_airtime",
         "rawType": "float64",
         "type": "float"
        },
        {
         "name": "ProductCategory_data_bundles",
         "rawType": "float64",
         "type": "float"
        },
        {
         "name": "ProductCategory_financial_services",
         "rawType": "float64",
         "type": "float"
        },
        {
         "name": "ProductCategory_movies",
         "rawType": "float64",
         "type": "float"
        },
        {
         "name": "ProductCategory_ticket",
         "rawType": "float64",
         "type": "float"
        },
        {
         "name": "ProductCategory_transport",
         "rawType": "float64",
         "type": "float"
        },
        {
         "name": "ProductCategory_tv",
         "rawType": "float64",
         "type": "float"
        },
        {
         "name": "ProductCategory_utility_bill",
         "rawType": "float64",
         "type": "float"
        },
        {
         "name": "ChannelId_ChannelId_1",
         "rawType": "float64",
         "type": "float"
        },
        {
         "name": "ChannelId_ChannelId_2",
         "rawType": "float64",
         "type": "float"
        },
        {
         "name": "ChannelId_ChannelId_3",
         "rawType": "float64",
         "type": "float"
        },
        {
         "name": "ChannelId_ChannelId_5",
         "rawType": "float64",
         "type": "float"
        },
        {
         "name": "PricingStrategy_0",
         "rawType": "float64",
         "type": "float"
        },
        {
         "name": "PricingStrategy_1",
         "rawType": "float64",
         "type": "float"
        },
        {
         "name": "PricingStrategy_2",
         "rawType": "float64",
         "type": "float"
        },
        {
         "name": "PricingStrategy_4",
         "rawType": "float64",
         "type": "float"
        },
        {
         "name": "FraudResult_0",
         "rawType": "float64",
         "type": "float"
        },
        {
         "name": "FraudResult_1",
         "rawType": "float64",
         "type": "float"
        },
        {
         "name": "TransactionStartTime",
         "rawType": "object",
         "type": "string"
        }
       ],
       "ref": "82a2d960-d664-4b04-b65e-c0b16124033c",
       "rows": [
        [
         "0",
         "CustomerId_1",
         "-0.089523581101884",
         "-0.0522970169974527",
         "0.0",
         "-0.2534590717909494",
         "-0.0668905554507115",
         "-0.1533642877023852",
         "0.0",
         "1.0",
         "1.0",
         "0.0",
         "0.0",
         "0.0",
         "1.0",
         "0.0",
         "0.0",
         "0.0",
         "1.0",
         "0.0",
         "0.0",
         "0.0",
         "0.0",
         "0.0",
         "0.0",
         "0.0",
         "0.0",
         "0.0",
         "0.0",
         "0.0",
         "0.0",
         "0.0",
         "0.0",
         "0.0",
         "0.0",
         "0.0",
         "0.0",
         "0.0",
         "1.0",
         "0.0",
         "0.0",
         "0.0",
         "0.0",
         "0.0",
         "0.0",
         "0.0",
         "0.0",
         "1.0",
         "0.0",
         "0.0",
         "0.0",
         "0.0",
         "0.0",
         "1.0",
         "1.0",
         "0.0",
         "2018-11-21 16:49:14+00:00"
        ],
        [
         "1",
         "CustomerId_10",
         "-0.089523581101884",
         "-0.0522970169974527",
         "0.0",
         "-0.2534590717909494",
         "-0.0668905554507115",
         "-0.1533642877023852",
         "0.0",
         "1.0",
         "1.0",
         "0.0",
         "0.0",
         "0.0",
         "1.0",
         "0.0",
         "0.0",
         "0.0",
         "0.0",
         "0.0",
         "0.0",
         "0.0",
         "0.0",
         "0.0",
         "0.0",
         "0.0",
         "0.0",
         "0.0",
         "0.0",
         "0.0",
         "0.0",
         "1.0",
         "0.0",
         "0.0",
         "0.0",
         "0.0",
         "0.0",
         "0.0",
         "1.0",
         "0.0",
         "0.0",
         "0.0",
         "0.0",
         "0.0",
         "0.0",
         "0.0",
         "0.0",
         "1.0",
         "0.0",
         "0.0",
         "0.0",
         "0.0",
         "0.0",
         "1.0",
         "1.0",
         "0.0",
         "2018-11-21 16:49:09+00:00"
        ],
        [
         "2",
         "CustomerId_1001",
         "-0.0820111908892197",
         "-0.0757097145464183",
         "-0.1203442596795778",
         "-0.2121864936081064",
         "-0.0558487286051677",
         "-0.0698702727480975",
         "-0.1059760281390441",
         "1.0",
         "1.0",
         "0.0",
         "0.0",
         "0.0",
         "0.0",
         "0.0",
         "1.0",
         "0.0",
         "1.0",
         "0.0",
         "0.0",
         "0.0",
         "0.0",
         "0.0",
         "0.0",
         "0.0",
         "0.0",
         "0.0",
         "0.0",
         "0.0",
         "0.0",
         "0.0",
         "0.0",
         "0.0",
         "0.0",
         "0.0",
         "0.0",
         "0.0",
         "1.0",
         "0.0",
         "0.0",
         "0.0",
         "0.0",
         "0.0",
         "0.0",
         "0.0",
         "0.0",
         "0.0",
         "1.0",
         "0.0",
         "0.0",
         "0.0",
         "1.0",
         "0.0",
         "1.0",
         "0.0",
         "2018-11-16 08:20:39+00:00"
        ],
        [
         "3",
         "CustomerId_1002",
         "-0.0914477104578238",
         "-0.1094306232031555",
         "-0.1573765953163928",
         "-0.1502776263338418",
         "-0.0616548892214495",
         "-0.0914350418702195",
         "-0.1680361168748936",
         "1.0",
         "1.0",
         "0.0",
         "0.0",
         "0.0",
         "1.0",
         "0.0",
         "0.0",
         "0.0",
         "0.0",
         "0.0",
         "0.0",
         "0.0",
         "0.0",
         "0.0",
         "0.0",
         "0.0",
         "0.0",
         "0.0",
         "0.0",
         "0.0",
         "0.0",
         "0.0",
         "0.0",
         "0.0",
         "1.0",
         "0.0",
         "0.0",
         "0.0",
         "0.0",
         "0.0",
         "1.0",
         "0.0",
         "0.0",
         "0.0",
         "0.0",
         "0.0",
         "0.0",
         "1.0",
         "0.0",
         "0.0",
         "0.0",
         "0.0",
         "1.0",
         "0.0",
         "1.0",
         "0.0",
         "2019-01-18 10:05:00+00:00"
        ],
        [
         "4",
         "CustomerId_1003",
         "-0.0814219838137166",
         "-0.0801692759843165",
         "-0.1219447206854997",
         "-0.2018683490623956",
         "-0.0558487286051677",
         "-0.0738461782221112",
         "-0.1114437338037851",
         "1.0",
         "1.0",
         "0.0",
         "0.0",
         "0.0",
         "0.0",
         "0.0",
         "1.0",
         "0.0",
         "0.0",
         "0.0",
         "0.0",
         "0.0",
         "0.0",
         "0.0",
         "0.0",
         "0.0",
         "0.0",
         "0.0",
         "0.0",
         "0.0",
         "0.0",
         "1.0",
         "0.0",
         "0.0",
         "0.0",
         "0.0",
         "0.0",
         "0.0",
         "1.0",
         "0.0",
         "0.0",
         "0.0",
         "0.0",
         "0.0",
         "0.0",
         "0.0",
         "0.0",
         "0.0",
         "1.0",
         "0.0",
         "0.0",
         "0.0",
         "1.0",
         "0.0",
         "1.0",
         "0.0",
         "2019-02-01 15:04:51+00:00"
        ]
       ],
       "shape": {
        "columns": 56,
        "rows": 5
       }
      },
      "text/html": [
       "<div>\n",
       "<style scoped>\n",
       "    .dataframe tbody tr th:only-of-type {\n",
       "        vertical-align: middle;\n",
       "    }\n",
       "\n",
       "    .dataframe tbody tr th {\n",
       "        vertical-align: top;\n",
       "    }\n",
       "\n",
       "    .dataframe thead th {\n",
       "        text-align: right;\n",
       "    }\n",
       "</style>\n",
       "<table border=\"1\" class=\"dataframe\">\n",
       "  <thead>\n",
       "    <tr style=\"text-align: right;\">\n",
       "      <th></th>\n",
       "      <th>CustomerId</th>\n",
       "      <th>total_value</th>\n",
       "      <th>avg_value</th>\n",
       "      <th>std_value</th>\n",
       "      <th>transaction_count</th>\n",
       "      <th>total_amount</th>\n",
       "      <th>avg_amount</th>\n",
       "      <th>std_amount</th>\n",
       "      <th>CurrencyCode_UGX</th>\n",
       "      <th>CountryCode_256</th>\n",
       "      <th>...</th>\n",
       "      <th>ChannelId_ChannelId_2</th>\n",
       "      <th>ChannelId_ChannelId_3</th>\n",
       "      <th>ChannelId_ChannelId_5</th>\n",
       "      <th>PricingStrategy_0</th>\n",
       "      <th>PricingStrategy_1</th>\n",
       "      <th>PricingStrategy_2</th>\n",
       "      <th>PricingStrategy_4</th>\n",
       "      <th>FraudResult_0</th>\n",
       "      <th>FraudResult_1</th>\n",
       "      <th>TransactionStartTime</th>\n",
       "    </tr>\n",
       "  </thead>\n",
       "  <tbody>\n",
       "    <tr>\n",
       "      <th>0</th>\n",
       "      <td>CustomerId_1</td>\n",
       "      <td>-0.089524</td>\n",
       "      <td>-0.052297</td>\n",
       "      <td>0.000000</td>\n",
       "      <td>-0.253459</td>\n",
       "      <td>-0.066891</td>\n",
       "      <td>-0.153364</td>\n",
       "      <td>0.000000</td>\n",
       "      <td>1.0</td>\n",
       "      <td>1.0</td>\n",
       "      <td>...</td>\n",
       "      <td>1.0</td>\n",
       "      <td>0.0</td>\n",
       "      <td>0.0</td>\n",
       "      <td>0.0</td>\n",
       "      <td>0.0</td>\n",
       "      <td>0.0</td>\n",
       "      <td>1.0</td>\n",
       "      <td>1.0</td>\n",
       "      <td>0.0</td>\n",
       "      <td>2018-11-21 16:49:14+00:00</td>\n",
       "    </tr>\n",
       "    <tr>\n",
       "      <th>1</th>\n",
       "      <td>CustomerId_10</td>\n",
       "      <td>-0.089524</td>\n",
       "      <td>-0.052297</td>\n",
       "      <td>0.000000</td>\n",
       "      <td>-0.253459</td>\n",
       "      <td>-0.066891</td>\n",
       "      <td>-0.153364</td>\n",
       "      <td>0.000000</td>\n",
       "      <td>1.0</td>\n",
       "      <td>1.0</td>\n",
       "      <td>...</td>\n",
       "      <td>1.0</td>\n",
       "      <td>0.0</td>\n",
       "      <td>0.0</td>\n",
       "      <td>0.0</td>\n",
       "      <td>0.0</td>\n",
       "      <td>0.0</td>\n",
       "      <td>1.0</td>\n",
       "      <td>1.0</td>\n",
       "      <td>0.0</td>\n",
       "      <td>2018-11-21 16:49:09+00:00</td>\n",
       "    </tr>\n",
       "    <tr>\n",
       "      <th>2</th>\n",
       "      <td>CustomerId_1001</td>\n",
       "      <td>-0.082011</td>\n",
       "      <td>-0.075710</td>\n",
       "      <td>-0.120344</td>\n",
       "      <td>-0.212186</td>\n",
       "      <td>-0.055849</td>\n",
       "      <td>-0.069870</td>\n",
       "      <td>-0.105976</td>\n",
       "      <td>1.0</td>\n",
       "      <td>1.0</td>\n",
       "      <td>...</td>\n",
       "      <td>0.0</td>\n",
       "      <td>1.0</td>\n",
       "      <td>0.0</td>\n",
       "      <td>0.0</td>\n",
       "      <td>0.0</td>\n",
       "      <td>1.0</td>\n",
       "      <td>0.0</td>\n",
       "      <td>1.0</td>\n",
       "      <td>0.0</td>\n",
       "      <td>2018-11-16 08:20:39+00:00</td>\n",
       "    </tr>\n",
       "    <tr>\n",
       "      <th>3</th>\n",
       "      <td>CustomerId_1002</td>\n",
       "      <td>-0.091448</td>\n",
       "      <td>-0.109431</td>\n",
       "      <td>-0.157377</td>\n",
       "      <td>-0.150278</td>\n",
       "      <td>-0.061655</td>\n",
       "      <td>-0.091435</td>\n",
       "      <td>-0.168036</td>\n",
       "      <td>1.0</td>\n",
       "      <td>1.0</td>\n",
       "      <td>...</td>\n",
       "      <td>1.0</td>\n",
       "      <td>0.0</td>\n",
       "      <td>0.0</td>\n",
       "      <td>0.0</td>\n",
       "      <td>0.0</td>\n",
       "      <td>1.0</td>\n",
       "      <td>0.0</td>\n",
       "      <td>1.0</td>\n",
       "      <td>0.0</td>\n",
       "      <td>2019-01-18 10:05:00+00:00</td>\n",
       "    </tr>\n",
       "    <tr>\n",
       "      <th>4</th>\n",
       "      <td>CustomerId_1003</td>\n",
       "      <td>-0.081422</td>\n",
       "      <td>-0.080169</td>\n",
       "      <td>-0.121945</td>\n",
       "      <td>-0.201868</td>\n",
       "      <td>-0.055849</td>\n",
       "      <td>-0.073846</td>\n",
       "      <td>-0.111444</td>\n",
       "      <td>1.0</td>\n",
       "      <td>1.0</td>\n",
       "      <td>...</td>\n",
       "      <td>0.0</td>\n",
       "      <td>1.0</td>\n",
       "      <td>0.0</td>\n",
       "      <td>0.0</td>\n",
       "      <td>0.0</td>\n",
       "      <td>1.0</td>\n",
       "      <td>0.0</td>\n",
       "      <td>1.0</td>\n",
       "      <td>0.0</td>\n",
       "      <td>2019-02-01 15:04:51+00:00</td>\n",
       "    </tr>\n",
       "  </tbody>\n",
       "</table>\n",
       "<p>5 rows × 56 columns</p>\n",
       "</div>"
      ],
      "text/plain": [
       "        CustomerId  total_value  avg_value  std_value  transaction_count  \\\n",
       "0     CustomerId_1    -0.089524  -0.052297   0.000000          -0.253459   \n",
       "1    CustomerId_10    -0.089524  -0.052297   0.000000          -0.253459   \n",
       "2  CustomerId_1001    -0.082011  -0.075710  -0.120344          -0.212186   \n",
       "3  CustomerId_1002    -0.091448  -0.109431  -0.157377          -0.150278   \n",
       "4  CustomerId_1003    -0.081422  -0.080169  -0.121945          -0.201868   \n",
       "\n",
       "   total_amount  avg_amount  std_amount  CurrencyCode_UGX  CountryCode_256  \\\n",
       "0     -0.066891   -0.153364    0.000000               1.0              1.0   \n",
       "1     -0.066891   -0.153364    0.000000               1.0              1.0   \n",
       "2     -0.055849   -0.069870   -0.105976               1.0              1.0   \n",
       "3     -0.061655   -0.091435   -0.168036               1.0              1.0   \n",
       "4     -0.055849   -0.073846   -0.111444               1.0              1.0   \n",
       "\n",
       "   ...  ChannelId_ChannelId_2  ChannelId_ChannelId_3  ChannelId_ChannelId_5  \\\n",
       "0  ...                    1.0                    0.0                    0.0   \n",
       "1  ...                    1.0                    0.0                    0.0   \n",
       "2  ...                    0.0                    1.0                    0.0   \n",
       "3  ...                    1.0                    0.0                    0.0   \n",
       "4  ...                    0.0                    1.0                    0.0   \n",
       "\n",
       "   PricingStrategy_0  PricingStrategy_1  PricingStrategy_2  PricingStrategy_4  \\\n",
       "0                0.0                0.0                0.0                1.0   \n",
       "1                0.0                0.0                0.0                1.0   \n",
       "2                0.0                0.0                1.0                0.0   \n",
       "3                0.0                0.0                1.0                0.0   \n",
       "4                0.0                0.0                1.0                0.0   \n",
       "\n",
       "   FraudResult_0  FraudResult_1       TransactionStartTime  \n",
       "0            1.0            0.0  2018-11-21 16:49:14+00:00  \n",
       "1            1.0            0.0  2018-11-21 16:49:09+00:00  \n",
       "2            1.0            0.0  2018-11-16 08:20:39+00:00  \n",
       "3            1.0            0.0  2019-01-18 10:05:00+00:00  \n",
       "4            1.0            0.0  2019-02-01 15:04:51+00:00  \n",
       "\n",
       "[5 rows x 56 columns]"
      ]
     },
     "execution_count": 25,
     "metadata": {},
     "output_type": "execute_result"
    }
   ],
   "source": [
    "df = pd.read_csv('../data/processed/processed.csv') # Display the first few rows of the processed DataFrame\n",
    "df.head()  # Display the first few rows of the processed DataFrame"
   ]
  }
 ],
 "metadata": {
  "kernelspec": {
   "display_name": "venv",
   "language": "python",
   "name": "python3"
  },
  "language_info": {
   "codemirror_mode": {
    "name": "ipython",
    "version": 3
   },
   "file_extension": ".py",
   "mimetype": "text/x-python",
   "name": "python",
   "nbconvert_exporter": "python",
   "pygments_lexer": "ipython3",
   "version": "3.11.0"
  }
 },
 "nbformat": 4,
 "nbformat_minor": 5
}
