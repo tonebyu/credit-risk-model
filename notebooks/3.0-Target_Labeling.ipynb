{
 "cells": [
  {
   "cell_type": "markdown",
   "id": "447ac313",
   "metadata": {},
   "source": []
  },
  {
   "cell_type": "code",
   "execution_count": 16,
   "metadata": {},
   "outputs": [],
   "source": [
    "import sys, os\n",
    "import pandas as pd\n",
    "sys.path.append(os.path.abspath(\"..\"))"
   ]
  },
  {
   "cell_type": "code",
   "execution_count": 17,
   "id": "1e9b8750",
   "metadata": {},
   "outputs": [
    {
     "name": "stdout",
     "output_type": "stream",
     "text": [
      "The autoreload extension is already loaded. To reload it, use:\n",
      "  %reload_ext autoreload\n"
     ]
    }
   ],
   "source": [
    "%load_ext autoreload\n",
    "%autoreload 2"
   ]
  },
  {
   "cell_type": "code",
   "execution_count": 18,
   "id": "1ffeca96",
   "metadata": {},
   "outputs": [],
   "source": [
    "from src.target_labeling import assign_high_risk_labels"
   ]
  },
  {
   "cell_type": "code",
   "execution_count": 11,
   "id": "4185ce99",
   "metadata": {},
   "outputs": [
    {
     "data": {
      "application/vnd.microsoft.datawrangler.viewer.v0+json": {
       "columns": [
        {
         "name": "index",
         "rawType": "int64",
         "type": "integer"
        },
        {
         "name": "CustomerId",
         "rawType": "object",
         "type": "string"
        },
        {
         "name": "total_value",
         "rawType": "float64",
         "type": "float"
        },
        {
         "name": "avg_value",
         "rawType": "float64",
         "type": "float"
        },
        {
         "name": "std_value",
         "rawType": "float64",
         "type": "float"
        },
        {
         "name": "transaction_count",
         "rawType": "float64",
         "type": "float"
        },
        {
         "name": "total_amount",
         "rawType": "float64",
         "type": "float"
        },
        {
         "name": "avg_amount",
         "rawType": "float64",
         "type": "float"
        },
        {
         "name": "std_amount",
         "rawType": "float64",
         "type": "float"
        },
        {
         "name": "CurrencyCode_UGX",
         "rawType": "float64",
         "type": "float"
        },
        {
         "name": "CountryCode_256",
         "rawType": "float64",
         "type": "float"
        },
        {
         "name": "ProviderId_ProviderId_1",
         "rawType": "float64",
         "type": "float"
        },
        {
         "name": "ProviderId_ProviderId_2",
         "rawType": "float64",
         "type": "float"
        },
        {
         "name": "ProviderId_ProviderId_3",
         "rawType": "float64",
         "type": "float"
        },
        {
         "name": "ProviderId_ProviderId_4",
         "rawType": "float64",
         "type": "float"
        },
        {
         "name": "ProviderId_ProviderId_5",
         "rawType": "float64",
         "type": "float"
        },
        {
         "name": "ProviderId_ProviderId_6",
         "rawType": "float64",
         "type": "float"
        },
        {
         "name": "ProductId_ProductId_1",
         "rawType": "float64",
         "type": "float"
        },
        {
         "name": "ProductId_ProductId_10",
         "rawType": "float64",
         "type": "float"
        },
        {
         "name": "ProductId_ProductId_11",
         "rawType": "float64",
         "type": "float"
        },
        {
         "name": "ProductId_ProductId_13",
         "rawType": "float64",
         "type": "float"
        },
        {
         "name": "ProductId_ProductId_14",
         "rawType": "float64",
         "type": "float"
        },
        {
         "name": "ProductId_ProductId_15",
         "rawType": "float64",
         "type": "float"
        },
        {
         "name": "ProductId_ProductId_16",
         "rawType": "float64",
         "type": "float"
        },
        {
         "name": "ProductId_ProductId_19",
         "rawType": "float64",
         "type": "float"
        },
        {
         "name": "ProductId_ProductId_2",
         "rawType": "float64",
         "type": "float"
        },
        {
         "name": "ProductId_ProductId_20",
         "rawType": "float64",
         "type": "float"
        },
        {
         "name": "ProductId_ProductId_21",
         "rawType": "float64",
         "type": "float"
        },
        {
         "name": "ProductId_ProductId_22",
         "rawType": "float64",
         "type": "float"
        },
        {
         "name": "ProductId_ProductId_24",
         "rawType": "float64",
         "type": "float"
        },
        {
         "name": "ProductId_ProductId_27",
         "rawType": "float64",
         "type": "float"
        },
        {
         "name": "ProductId_ProductId_3",
         "rawType": "float64",
         "type": "float"
        },
        {
         "name": "ProductId_ProductId_4",
         "rawType": "float64",
         "type": "float"
        },
        {
         "name": "ProductId_ProductId_5",
         "rawType": "float64",
         "type": "float"
        },
        {
         "name": "ProductId_ProductId_6",
         "rawType": "float64",
         "type": "float"
        },
        {
         "name": "ProductId_ProductId_7",
         "rawType": "float64",
         "type": "float"
        },
        {
         "name": "ProductId_ProductId_8",
         "rawType": "float64",
         "type": "float"
        },
        {
         "name": "ProductId_ProductId_9",
         "rawType": "float64",
         "type": "float"
        },
        {
         "name": "ProductCategory_airtime",
         "rawType": "float64",
         "type": "float"
        },
        {
         "name": "ProductCategory_data_bundles",
         "rawType": "float64",
         "type": "float"
        },
        {
         "name": "ProductCategory_financial_services",
         "rawType": "float64",
         "type": "float"
        },
        {
         "name": "ProductCategory_movies",
         "rawType": "float64",
         "type": "float"
        },
        {
         "name": "ProductCategory_ticket",
         "rawType": "float64",
         "type": "float"
        },
        {
         "name": "ProductCategory_transport",
         "rawType": "float64",
         "type": "float"
        },
        {
         "name": "ProductCategory_tv",
         "rawType": "float64",
         "type": "float"
        },
        {
         "name": "ProductCategory_utility_bill",
         "rawType": "float64",
         "type": "float"
        },
        {
         "name": "ChannelId_ChannelId_1",
         "rawType": "float64",
         "type": "float"
        },
        {
         "name": "ChannelId_ChannelId_2",
         "rawType": "float64",
         "type": "float"
        },
        {
         "name": "ChannelId_ChannelId_3",
         "rawType": "float64",
         "type": "float"
        },
        {
         "name": "ChannelId_ChannelId_5",
         "rawType": "float64",
         "type": "float"
        },
        {
         "name": "PricingStrategy_0",
         "rawType": "float64",
         "type": "float"
        },
        {
         "name": "PricingStrategy_1",
         "rawType": "float64",
         "type": "float"
        },
        {
         "name": "PricingStrategy_2",
         "rawType": "float64",
         "type": "float"
        },
        {
         "name": "PricingStrategy_4",
         "rawType": "float64",
         "type": "float"
        },
        {
         "name": "FraudResult_0",
         "rawType": "float64",
         "type": "float"
        },
        {
         "name": "FraudResult_1",
         "rawType": "float64",
         "type": "float"
        },
        {
         "name": "TransactionStartTime",
         "rawType": "object",
         "type": "string"
        }
       ],
       "ref": "0948e09f-5c92-4815-b30d-aaf686d06331",
       "rows": [
        [
         "0",
         "CustomerId_1",
         "-0.089523581101884",
         "-0.0522970169974527",
         "0.0",
         "-0.2534590717909494",
         "-0.0668905554507115",
         "-0.1533642877023852",
         "0.0",
         "1.0",
         "1.0",
         "0.0",
         "0.0",
         "0.0",
         "1.0",
         "0.0",
         "0.0",
         "0.0",
         "1.0",
         "0.0",
         "0.0",
         "0.0",
         "0.0",
         "0.0",
         "0.0",
         "0.0",
         "0.0",
         "0.0",
         "0.0",
         "0.0",
         "0.0",
         "0.0",
         "0.0",
         "0.0",
         "0.0",
         "0.0",
         "0.0",
         "0.0",
         "1.0",
         "0.0",
         "0.0",
         "0.0",
         "0.0",
         "0.0",
         "0.0",
         "0.0",
         "0.0",
         "1.0",
         "0.0",
         "0.0",
         "0.0",
         "0.0",
         "0.0",
         "1.0",
         "1.0",
         "0.0",
         "2018-11-21 16:49:14+00:00"
        ],
        [
         "1",
         "CustomerId_10",
         "-0.089523581101884",
         "-0.0522970169974527",
         "0.0",
         "-0.2534590717909494",
         "-0.0668905554507115",
         "-0.1533642877023852",
         "0.0",
         "1.0",
         "1.0",
         "0.0",
         "0.0",
         "0.0",
         "1.0",
         "0.0",
         "0.0",
         "0.0",
         "0.0",
         "0.0",
         "0.0",
         "0.0",
         "0.0",
         "0.0",
         "0.0",
         "0.0",
         "0.0",
         "0.0",
         "0.0",
         "0.0",
         "0.0",
         "1.0",
         "0.0",
         "0.0",
         "0.0",
         "0.0",
         "0.0",
         "0.0",
         "1.0",
         "0.0",
         "0.0",
         "0.0",
         "0.0",
         "0.0",
         "0.0",
         "0.0",
         "0.0",
         "1.0",
         "0.0",
         "0.0",
         "0.0",
         "0.0",
         "0.0",
         "1.0",
         "1.0",
         "0.0",
         "2018-11-21 16:49:09+00:00"
        ],
        [
         "2",
         "CustomerId_1001",
         "-0.0820111908892197",
         "-0.0757097145464183",
         "-0.1203442596795778",
         "-0.2121864936081064",
         "-0.0558487286051677",
         "-0.0698702727480975",
         "-0.1059760281390441",
         "1.0",
         "1.0",
         "0.0",
         "0.0",
         "0.0",
         "0.0",
         "0.0",
         "1.0",
         "0.0",
         "1.0",
         "0.0",
         "0.0",
         "0.0",
         "0.0",
         "0.0",
         "0.0",
         "0.0",
         "0.0",
         "0.0",
         "0.0",
         "0.0",
         "0.0",
         "0.0",
         "0.0",
         "0.0",
         "0.0",
         "0.0",
         "0.0",
         "0.0",
         "1.0",
         "0.0",
         "0.0",
         "0.0",
         "0.0",
         "0.0",
         "0.0",
         "0.0",
         "0.0",
         "0.0",
         "1.0",
         "0.0",
         "0.0",
         "0.0",
         "1.0",
         "0.0",
         "1.0",
         "0.0",
         "2018-11-16 08:20:39+00:00"
        ],
        [
         "3",
         "CustomerId_1002",
         "-0.0914477104578238",
         "-0.1094306232031555",
         "-0.1573765953163928",
         "-0.1502776263338418",
         "-0.0616548892214495",
         "-0.0914350418702195",
         "-0.1680361168748936",
         "1.0",
         "1.0",
         "0.0",
         "0.0",
         "0.0",
         "1.0",
         "0.0",
         "0.0",
         "0.0",
         "0.0",
         "0.0",
         "0.0",
         "0.0",
         "0.0",
         "0.0",
         "0.0",
         "0.0",
         "0.0",
         "0.0",
         "0.0",
         "0.0",
         "0.0",
         "0.0",
         "0.0",
         "0.0",
         "1.0",
         "0.0",
         "0.0",
         "0.0",
         "0.0",
         "0.0",
         "1.0",
         "0.0",
         "0.0",
         "0.0",
         "0.0",
         "0.0",
         "0.0",
         "1.0",
         "0.0",
         "0.0",
         "0.0",
         "0.0",
         "1.0",
         "0.0",
         "1.0",
         "0.0",
         "2019-01-18 10:05:00+00:00"
        ],
        [
         "4",
         "CustomerId_1003",
         "-0.0814219838137166",
         "-0.0801692759843165",
         "-0.1219447206854997",
         "-0.2018683490623956",
         "-0.0558487286051677",
         "-0.0738461782221112",
         "-0.1114437338037851",
         "1.0",
         "1.0",
         "0.0",
         "0.0",
         "0.0",
         "0.0",
         "0.0",
         "1.0",
         "0.0",
         "0.0",
         "0.0",
         "0.0",
         "0.0",
         "0.0",
         "0.0",
         "0.0",
         "0.0",
         "0.0",
         "0.0",
         "0.0",
         "0.0",
         "0.0",
         "1.0",
         "0.0",
         "0.0",
         "0.0",
         "0.0",
         "0.0",
         "0.0",
         "1.0",
         "0.0",
         "0.0",
         "0.0",
         "0.0",
         "0.0",
         "0.0",
         "0.0",
         "0.0",
         "0.0",
         "1.0",
         "0.0",
         "0.0",
         "0.0",
         "1.0",
         "0.0",
         "1.0",
         "0.0",
         "2019-02-01 15:04:51+00:00"
        ]
       ],
       "shape": {
        "columns": 56,
        "rows": 5
       }
      },
      "text/html": [
       "<div>\n",
       "<style scoped>\n",
       "    .dataframe tbody tr th:only-of-type {\n",
       "        vertical-align: middle;\n",
       "    }\n",
       "\n",
       "    .dataframe tbody tr th {\n",
       "        vertical-align: top;\n",
       "    }\n",
       "\n",
       "    .dataframe thead th {\n",
       "        text-align: right;\n",
       "    }\n",
       "</style>\n",
       "<table border=\"1\" class=\"dataframe\">\n",
       "  <thead>\n",
       "    <tr style=\"text-align: right;\">\n",
       "      <th></th>\n",
       "      <th>CustomerId</th>\n",
       "      <th>total_value</th>\n",
       "      <th>avg_value</th>\n",
       "      <th>std_value</th>\n",
       "      <th>transaction_count</th>\n",
       "      <th>total_amount</th>\n",
       "      <th>avg_amount</th>\n",
       "      <th>std_amount</th>\n",
       "      <th>CurrencyCode_UGX</th>\n",
       "      <th>CountryCode_256</th>\n",
       "      <th>...</th>\n",
       "      <th>ChannelId_ChannelId_2</th>\n",
       "      <th>ChannelId_ChannelId_3</th>\n",
       "      <th>ChannelId_ChannelId_5</th>\n",
       "      <th>PricingStrategy_0</th>\n",
       "      <th>PricingStrategy_1</th>\n",
       "      <th>PricingStrategy_2</th>\n",
       "      <th>PricingStrategy_4</th>\n",
       "      <th>FraudResult_0</th>\n",
       "      <th>FraudResult_1</th>\n",
       "      <th>TransactionStartTime</th>\n",
       "    </tr>\n",
       "  </thead>\n",
       "  <tbody>\n",
       "    <tr>\n",
       "      <th>0</th>\n",
       "      <td>CustomerId_1</td>\n",
       "      <td>-0.089524</td>\n",
       "      <td>-0.052297</td>\n",
       "      <td>0.000000</td>\n",
       "      <td>-0.253459</td>\n",
       "      <td>-0.066891</td>\n",
       "      <td>-0.153364</td>\n",
       "      <td>0.000000</td>\n",
       "      <td>1.0</td>\n",
       "      <td>1.0</td>\n",
       "      <td>...</td>\n",
       "      <td>1.0</td>\n",
       "      <td>0.0</td>\n",
       "      <td>0.0</td>\n",
       "      <td>0.0</td>\n",
       "      <td>0.0</td>\n",
       "      <td>0.0</td>\n",
       "      <td>1.0</td>\n",
       "      <td>1.0</td>\n",
       "      <td>0.0</td>\n",
       "      <td>2018-11-21 16:49:14+00:00</td>\n",
       "    </tr>\n",
       "    <tr>\n",
       "      <th>1</th>\n",
       "      <td>CustomerId_10</td>\n",
       "      <td>-0.089524</td>\n",
       "      <td>-0.052297</td>\n",
       "      <td>0.000000</td>\n",
       "      <td>-0.253459</td>\n",
       "      <td>-0.066891</td>\n",
       "      <td>-0.153364</td>\n",
       "      <td>0.000000</td>\n",
       "      <td>1.0</td>\n",
       "      <td>1.0</td>\n",
       "      <td>...</td>\n",
       "      <td>1.0</td>\n",
       "      <td>0.0</td>\n",
       "      <td>0.0</td>\n",
       "      <td>0.0</td>\n",
       "      <td>0.0</td>\n",
       "      <td>0.0</td>\n",
       "      <td>1.0</td>\n",
       "      <td>1.0</td>\n",
       "      <td>0.0</td>\n",
       "      <td>2018-11-21 16:49:09+00:00</td>\n",
       "    </tr>\n",
       "    <tr>\n",
       "      <th>2</th>\n",
       "      <td>CustomerId_1001</td>\n",
       "      <td>-0.082011</td>\n",
       "      <td>-0.075710</td>\n",
       "      <td>-0.120344</td>\n",
       "      <td>-0.212186</td>\n",
       "      <td>-0.055849</td>\n",
       "      <td>-0.069870</td>\n",
       "      <td>-0.105976</td>\n",
       "      <td>1.0</td>\n",
       "      <td>1.0</td>\n",
       "      <td>...</td>\n",
       "      <td>0.0</td>\n",
       "      <td>1.0</td>\n",
       "      <td>0.0</td>\n",
       "      <td>0.0</td>\n",
       "      <td>0.0</td>\n",
       "      <td>1.0</td>\n",
       "      <td>0.0</td>\n",
       "      <td>1.0</td>\n",
       "      <td>0.0</td>\n",
       "      <td>2018-11-16 08:20:39+00:00</td>\n",
       "    </tr>\n",
       "    <tr>\n",
       "      <th>3</th>\n",
       "      <td>CustomerId_1002</td>\n",
       "      <td>-0.091448</td>\n",
       "      <td>-0.109431</td>\n",
       "      <td>-0.157377</td>\n",
       "      <td>-0.150278</td>\n",
       "      <td>-0.061655</td>\n",
       "      <td>-0.091435</td>\n",
       "      <td>-0.168036</td>\n",
       "      <td>1.0</td>\n",
       "      <td>1.0</td>\n",
       "      <td>...</td>\n",
       "      <td>1.0</td>\n",
       "      <td>0.0</td>\n",
       "      <td>0.0</td>\n",
       "      <td>0.0</td>\n",
       "      <td>0.0</td>\n",
       "      <td>1.0</td>\n",
       "      <td>0.0</td>\n",
       "      <td>1.0</td>\n",
       "      <td>0.0</td>\n",
       "      <td>2019-01-18 10:05:00+00:00</td>\n",
       "    </tr>\n",
       "    <tr>\n",
       "      <th>4</th>\n",
       "      <td>CustomerId_1003</td>\n",
       "      <td>-0.081422</td>\n",
       "      <td>-0.080169</td>\n",
       "      <td>-0.121945</td>\n",
       "      <td>-0.201868</td>\n",
       "      <td>-0.055849</td>\n",
       "      <td>-0.073846</td>\n",
       "      <td>-0.111444</td>\n",
       "      <td>1.0</td>\n",
       "      <td>1.0</td>\n",
       "      <td>...</td>\n",
       "      <td>0.0</td>\n",
       "      <td>1.0</td>\n",
       "      <td>0.0</td>\n",
       "      <td>0.0</td>\n",
       "      <td>0.0</td>\n",
       "      <td>1.0</td>\n",
       "      <td>0.0</td>\n",
       "      <td>1.0</td>\n",
       "      <td>0.0</td>\n",
       "      <td>2019-02-01 15:04:51+00:00</td>\n",
       "    </tr>\n",
       "  </tbody>\n",
       "</table>\n",
       "<p>5 rows × 56 columns</p>\n",
       "</div>"
      ],
      "text/plain": [
       "        CustomerId  total_value  avg_value  std_value  transaction_count  \\\n",
       "0     CustomerId_1    -0.089524  -0.052297   0.000000          -0.253459   \n",
       "1    CustomerId_10    -0.089524  -0.052297   0.000000          -0.253459   \n",
       "2  CustomerId_1001    -0.082011  -0.075710  -0.120344          -0.212186   \n",
       "3  CustomerId_1002    -0.091448  -0.109431  -0.157377          -0.150278   \n",
       "4  CustomerId_1003    -0.081422  -0.080169  -0.121945          -0.201868   \n",
       "\n",
       "   total_amount  avg_amount  std_amount  CurrencyCode_UGX  CountryCode_256  \\\n",
       "0     -0.066891   -0.153364    0.000000               1.0              1.0   \n",
       "1     -0.066891   -0.153364    0.000000               1.0              1.0   \n",
       "2     -0.055849   -0.069870   -0.105976               1.0              1.0   \n",
       "3     -0.061655   -0.091435   -0.168036               1.0              1.0   \n",
       "4     -0.055849   -0.073846   -0.111444               1.0              1.0   \n",
       "\n",
       "   ...  ChannelId_ChannelId_2  ChannelId_ChannelId_3  ChannelId_ChannelId_5  \\\n",
       "0  ...                    1.0                    0.0                    0.0   \n",
       "1  ...                    1.0                    0.0                    0.0   \n",
       "2  ...                    0.0                    1.0                    0.0   \n",
       "3  ...                    1.0                    0.0                    0.0   \n",
       "4  ...                    0.0                    1.0                    0.0   \n",
       "\n",
       "   PricingStrategy_0  PricingStrategy_1  PricingStrategy_2  PricingStrategy_4  \\\n",
       "0                0.0                0.0                0.0                1.0   \n",
       "1                0.0                0.0                0.0                1.0   \n",
       "2                0.0                0.0                1.0                0.0   \n",
       "3                0.0                0.0                1.0                0.0   \n",
       "4                0.0                0.0                1.0                0.0   \n",
       "\n",
       "   FraudResult_0  FraudResult_1       TransactionStartTime  \n",
       "0            1.0            0.0  2018-11-21 16:49:14+00:00  \n",
       "1            1.0            0.0  2018-11-21 16:49:09+00:00  \n",
       "2            1.0            0.0  2018-11-16 08:20:39+00:00  \n",
       "3            1.0            0.0  2019-01-18 10:05:00+00:00  \n",
       "4            1.0            0.0  2019-02-01 15:04:51+00:00  \n",
       "\n",
       "[5 rows x 56 columns]"
      ]
     },
     "execution_count": 11,
     "metadata": {},
     "output_type": "execute_result"
    }
   ],
   "source": [
    "df2 = pd.read_csv('../data/processed/processed.csv')\n",
    "df2.head()"
   ]
  },
  {
   "cell_type": "code",
   "execution_count": 19,
   "id": "93f2075b",
   "metadata": {},
   "outputs": [
    {
     "name": "stdout",
     "output_type": "stream",
     "text": [
      "âœ… High-risk labels added and saved to: ../data/processed/final_with_risk.csv\n"
     ]
    }
   ],
   "source": [
    "# Input is your processed dataset, Output is the final labeled dataset\n",
    "assign_high_risk_labels(\n",
    "    input_csv_path='../data/processed/processed.csv',\n",
    "    output_csv_path='../data/processed/final_with_risk.csv'\n",
    ")"
   ]
  },
  {
   "cell_type": "code",
   "execution_count": 21,
   "id": "97603b70",
   "metadata": {},
   "outputs": [
    {
     "data": {
      "application/vnd.microsoft.datawrangler.viewer.v0+json": {
       "columns": [
        {
         "name": "index",
         "rawType": "int64",
         "type": "integer"
        },
        {
         "name": "CustomerId",
         "rawType": "object",
         "type": "string"
        },
        {
         "name": "is_high_risk",
         "rawType": "int64",
         "type": "integer"
        }
       ],
       "ref": "dd935ba3-817d-4532-8693-bcb634ce8393",
       "rows": [
        [
         "0",
         "CustomerId_1",
         "1"
        ],
        [
         "1",
         "CustomerId_10",
         "1"
        ],
        [
         "2",
         "CustomerId_1001",
         "1"
        ],
        [
         "3",
         "CustomerId_1002",
         "0"
        ],
        [
         "4",
         "CustomerId_1003",
         "0"
        ],
        [
         "5",
         "CustomerId_1004",
         "1"
        ],
        [
         "6",
         "CustomerId_1005",
         "1"
        ],
        [
         "7",
         "CustomerId_1006",
         "1"
        ],
        [
         "8",
         "CustomerId_1007",
         "1"
        ],
        [
         "9",
         "CustomerId_1008",
         "1"
        ],
        [
         "10",
         "CustomerId_1009",
         "0"
        ],
        [
         "11",
         "CustomerId_1010",
         "1"
        ],
        [
         "12",
         "CustomerId_1012",
         "0"
        ],
        [
         "13",
         "CustomerId_1014",
         "1"
        ],
        [
         "14",
         "CustomerId_1016",
         "0"
        ],
        [
         "15",
         "CustomerId_1020",
         "0"
        ],
        [
         "16",
         "CustomerId_1021",
         "1"
        ],
        [
         "17",
         "CustomerId_1022",
         "0"
        ],
        [
         "18",
         "CustomerId_1025",
         "0"
        ],
        [
         "19",
         "CustomerId_1027",
         "0"
        ]
       ],
       "shape": {
        "columns": 2,
        "rows": 20
       }
      },
      "text/html": [
       "<div>\n",
       "<style scoped>\n",
       "    .dataframe tbody tr th:only-of-type {\n",
       "        vertical-align: middle;\n",
       "    }\n",
       "\n",
       "    .dataframe tbody tr th {\n",
       "        vertical-align: top;\n",
       "    }\n",
       "\n",
       "    .dataframe thead th {\n",
       "        text-align: right;\n",
       "    }\n",
       "</style>\n",
       "<table border=\"1\" class=\"dataframe\">\n",
       "  <thead>\n",
       "    <tr style=\"text-align: right;\">\n",
       "      <th></th>\n",
       "      <th>CustomerId</th>\n",
       "      <th>is_high_risk</th>\n",
       "    </tr>\n",
       "  </thead>\n",
       "  <tbody>\n",
       "    <tr>\n",
       "      <th>0</th>\n",
       "      <td>CustomerId_1</td>\n",
       "      <td>1</td>\n",
       "    </tr>\n",
       "    <tr>\n",
       "      <th>1</th>\n",
       "      <td>CustomerId_10</td>\n",
       "      <td>1</td>\n",
       "    </tr>\n",
       "    <tr>\n",
       "      <th>2</th>\n",
       "      <td>CustomerId_1001</td>\n",
       "      <td>1</td>\n",
       "    </tr>\n",
       "    <tr>\n",
       "      <th>3</th>\n",
       "      <td>CustomerId_1002</td>\n",
       "      <td>0</td>\n",
       "    </tr>\n",
       "    <tr>\n",
       "      <th>4</th>\n",
       "      <td>CustomerId_1003</td>\n",
       "      <td>0</td>\n",
       "    </tr>\n",
       "    <tr>\n",
       "      <th>5</th>\n",
       "      <td>CustomerId_1004</td>\n",
       "      <td>1</td>\n",
       "    </tr>\n",
       "    <tr>\n",
       "      <th>6</th>\n",
       "      <td>CustomerId_1005</td>\n",
       "      <td>1</td>\n",
       "    </tr>\n",
       "    <tr>\n",
       "      <th>7</th>\n",
       "      <td>CustomerId_1006</td>\n",
       "      <td>1</td>\n",
       "    </tr>\n",
       "    <tr>\n",
       "      <th>8</th>\n",
       "      <td>CustomerId_1007</td>\n",
       "      <td>1</td>\n",
       "    </tr>\n",
       "    <tr>\n",
       "      <th>9</th>\n",
       "      <td>CustomerId_1008</td>\n",
       "      <td>1</td>\n",
       "    </tr>\n",
       "    <tr>\n",
       "      <th>10</th>\n",
       "      <td>CustomerId_1009</td>\n",
       "      <td>0</td>\n",
       "    </tr>\n",
       "    <tr>\n",
       "      <th>11</th>\n",
       "      <td>CustomerId_1010</td>\n",
       "      <td>1</td>\n",
       "    </tr>\n",
       "    <tr>\n",
       "      <th>12</th>\n",
       "      <td>CustomerId_1012</td>\n",
       "      <td>0</td>\n",
       "    </tr>\n",
       "    <tr>\n",
       "      <th>13</th>\n",
       "      <td>CustomerId_1014</td>\n",
       "      <td>1</td>\n",
       "    </tr>\n",
       "    <tr>\n",
       "      <th>14</th>\n",
       "      <td>CustomerId_1016</td>\n",
       "      <td>0</td>\n",
       "    </tr>\n",
       "    <tr>\n",
       "      <th>15</th>\n",
       "      <td>CustomerId_1020</td>\n",
       "      <td>0</td>\n",
       "    </tr>\n",
       "    <tr>\n",
       "      <th>16</th>\n",
       "      <td>CustomerId_1021</td>\n",
       "      <td>1</td>\n",
       "    </tr>\n",
       "    <tr>\n",
       "      <th>17</th>\n",
       "      <td>CustomerId_1022</td>\n",
       "      <td>0</td>\n",
       "    </tr>\n",
       "    <tr>\n",
       "      <th>18</th>\n",
       "      <td>CustomerId_1025</td>\n",
       "      <td>0</td>\n",
       "    </tr>\n",
       "    <tr>\n",
       "      <th>19</th>\n",
       "      <td>CustomerId_1027</td>\n",
       "      <td>0</td>\n",
       "    </tr>\n",
       "  </tbody>\n",
       "</table>\n",
       "</div>"
      ],
      "text/plain": [
       "         CustomerId  is_high_risk\n",
       "0      CustomerId_1             1\n",
       "1     CustomerId_10             1\n",
       "2   CustomerId_1001             1\n",
       "3   CustomerId_1002             0\n",
       "4   CustomerId_1003             0\n",
       "5   CustomerId_1004             1\n",
       "6   CustomerId_1005             1\n",
       "7   CustomerId_1006             1\n",
       "8   CustomerId_1007             1\n",
       "9   CustomerId_1008             1\n",
       "10  CustomerId_1009             0\n",
       "11  CustomerId_1010             1\n",
       "12  CustomerId_1012             0\n",
       "13  CustomerId_1014             1\n",
       "14  CustomerId_1016             0\n",
       "15  CustomerId_1020             0\n",
       "16  CustomerId_1021             1\n",
       "17  CustomerId_1022             0\n",
       "18  CustomerId_1025             0\n",
       "19  CustomerId_1027             0"
      ]
     },
     "execution_count": 21,
     "metadata": {},
     "output_type": "execute_result"
    }
   ],
   "source": [
    "# Read it back and verify\n",
    "df = pd.read_csv('../data/processed/final_with_risk.csv')\n",
    "df[['CustomerId', 'is_high_risk']].head(20)"
   ]
  }
 ],
 "metadata": {
  "kernelspec": {
   "display_name": "venv",
   "language": "python",
   "name": "python3"
  },
  "language_info": {
   "codemirror_mode": {
    "name": "ipython",
    "version": 3
   },
   "file_extension": ".py",
   "mimetype": "text/x-python",
   "name": "python",
   "nbconvert_exporter": "python",
   "pygments_lexer": "ipython3",
   "version": "3.11.0"
  }
 },
 "nbformat": 4,
 "nbformat_minor": 5
}
